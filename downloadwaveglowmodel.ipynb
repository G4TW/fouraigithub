#@title
# Download WaveGlow Model
waveglow_pretrained_model = 'waveglow.pt'
waveglow_ids = ['1DMyL3RxFqAVhH60VCLnVaDt2YJb2RCfz', '10wDUQ3HAKhdNgnqZC3PBDBZ12PADZWAU', '14ajSxb4yJXQnv_nf9O89dIWcfdvUFFZo', '1H707kelxad-DuWBBmDGgR48b5KCS0ta8', '1lDzc_asOMCrf86XcfHKTSCnYBojb0VR-', '1Rmm81f6-NJQ-6T2JCtwS6XZedrrXoW0E', '1sMYb2HixSOSEHR1mOoBkXMHOlJ4vAV-m', 'https://drive.google.com/open?id=1lDRZtuPoYObMen9klwSIQPQ5lLkpp3mi', 'https://drive.google.com/open?id=1F__M3bwVuZkeHFULkoQgef8QB5Tx6_24', 'https://drive.google.com/open?id=14DJNfpPUnSNOfamRQzKgqaU4Y87zE3-c', 'https://drive.google.com/open?id=1_AjAgDGm_bf0t4-yznCoD0foPKyp4YPW']
while not exists(waveglow_pretrained_model) and waveglow_ids:
    id = choice(waveglow_ids)
    gdown.download(d+id, waveglow_pretrained_model, quiet=False);
    if not exists(waveglow_pretrained_model): print("Download Failed, attempting another ID"); waveglow_ids.remove(id)
if exists(waveglow_pretrained_model): print("WaveGlow Downloaded")
else: print("WaveGlow failed to download on all ID's provided")
 
# Load WaveGlow model into GPU
waveglow = torch.load(waveglow_pretrained_model)['model']
waveglow.cuda().eval().half()
for k in waveglow.convinv:
    k.float()
denoiser = Denoiser(waveglow)
print("This WaveGlow model has been trained for ",torch.load(waveglow_pretrained_model)['iteration']," Iterations.")
